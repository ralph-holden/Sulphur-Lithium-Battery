{
 "cells": [
  {
   "cell_type": "markdown",
   "id": "165d638e",
   "metadata": {},
   "source": [
    "# LiS Battery Model\n",
    "\n",
    "We want to simulate the discharge of a Lithium Sulfur battery. The electrochemical equation for our system is \n",
    "\n",
    "$$ S_8^0 + 4e^- \\to 2S_4^{2-} $$\n",
    "\n",
    "\n"
   ]
  },
  {
   "cell_type": "code",
   "execution_count": 2,
   "id": "dba5b1fc",
   "metadata": {},
   "outputs": [
    {
     "name": "stdout",
     "output_type": "stream",
     "text": [
      "Populating the interactive namespace from numpy and matplotlib\n"
     ]
    }
   ],
   "source": [
    "%pylab inline\n",
    "from pylab import *\n",
    "from math import *"
   ]
  },
  {
   "cell_type": "code",
   "execution_count": 3,
   "id": "5a3be7c1",
   "metadata": {},
   "outputs": [],
   "source": [
    "R = 8.3145     # gas constant [j/mole K]\n",
    "T = 303.15     # Temperature of battery [K]\n",
    "F = 96485.3321 # Faraday's constant [C/mole]\n",
    "A = 0.9        # active surface area on electrode [m^2]\n",
    "alpha = 0.5    # exchange coefficient [-]\n",
    "n = 4          # stiochiometric coefficient of electrons [-] \n",
    "E0 = 2.4       # standard potential [V]\n",
    "I0 = -.002     # standard current [A]\n",
    "ms = 0.01      # mass of Sulfur in the battery [g] \n",
    "Ms = 32        # molar mass of elemental sulfur [moles/g]\n",
    "n8 = 8         # number of elemental sulfur atoms in S_8^0 [-]\n",
    "n4 = 4         # number of elemental sulfur atoms in S_4^{2-} [-]\n",
    "V0 = 2.45      # standard voltage [V]"
   ]
  },
  {
   "cell_type": "markdown",
   "id": "b0ff57cf",
   "metadata": {},
   "source": [
    "The following functions define the initial concentrations and the exchange current density as a function of electrolyte volume. "
   ]
  },
  {
   "cell_type": "code",
   "execution_count": 4,
   "id": "e5414d75",
   "metadata": {},
   "outputs": [],
   "source": [
    "def initial_conditions(nu):\n",
    "    '''\n",
    "    Defines the initial values for the concentration of both S_8^0 and S_4^{2-}\n",
    "    \n",
    "    Inputs\n",
    "    ------\n",
    "        nu: float, electrolyte volume\n",
    "        \n",
    "    Outputs\n",
    "    -------\n",
    "        C_S8_initial: float, initial concentration for S_8^0\n",
    "        C_S4_initial: float, initial concentration for S_4^{2-}\n",
    "    '''\n",
    "    \n",
    "    C_S8_initial = ms*0.99999/(Ms*n8*nu)\n",
    "    C_S4_initial = ms*0.00001/(Ms*n4*nu)\n",
    "    \n",
    "    return C_S8_initial, C_S4_initial\n",
    "\n",
    "def exchange_current_density(C_S8_initial, C_S4_initial, nu):\n",
    "    '''\n",
    "    Defines the exchange current density as a function of the initial concentrations\n",
    "    and the electrolyte volume\n",
    "    Inputs\n",
    "    ------\n",
    "        nu:           float, electrolyte volume\n",
    "        C_S8_initial: float, initial concentration for S_8^0\n",
    "        C_S4_initial: float, initial concentration for S_4^{2-}\n",
    "        \n",
    "    Outputs\n",
    "    -------\n",
    "        j0: float, exchange current density\n",
    "    '''\n",
    "    j0 = I0/(nu*A*(j_c(C_S4_initial,V0)-j_a(C_S8_initial,V0)))\n",
    "    return j0"
   ]
  },
  {
   "cell_type": "markdown",
   "id": "72f2c3df",
   "metadata": {},
   "source": [
    "For the model, we will denote the concentration of $S_8^0$ as $C_{S8}$ and the concentration of $S_4^{2-}$ as $C_{S4}$. As the concentrations change, so too will the current output from the battery. We want to model how holding the battery at some voltage, $V$, will change the concentrations and the current. \n",
    "\n",
    "To begin, let us define a few functions. \n",
    "\n",
    "The anodic half-current is defined as the current density due to $S_8^0$ converting to $S_4^{-2}$ and is modelled via\n",
    "\n",
    "$$ j_a(C_{S8},V) = n F C_{S8} e^{-\\alpha \\frac{n F (V-E_0)}{RT}} $$\n",
    "\n",
    "The cathodic half-current is defined as the current density due to $S_4^{2-}$ converting to $S_8^{0}$ and is modelled via\n",
    "\n",
    "$$ j_c(C_{S4},V) = n F \\left(C_{S4}\\right)^2 e^{(1-\\alpha) \\frac{n F (V-E_0)}{RT}} $$"
   ]
  },
  {
   "cell_type": "code",
   "execution_count": 5,
   "id": "e1dbfb80",
   "metadata": {},
   "outputs": [],
   "source": [
    "def j_a(C_s8,V):\n",
    "    '''\n",
    "    Anodic half current, S8 to S4{2-}\n",
    "    \n",
    "    INPUTS\n",
    "    C_s8: float, concentration of S8\n",
    "    V: float, Voltage\n",
    "    \n",
    "    OUTPUT\n",
    "    float, anodic half current\n",
    "    '''\n",
    "    output_coeff = n*F*C_s8\n",
    "    output_exp = -1*alpha*n*F*(V-E0)/(R*T)\n",
    "    \n",
    "    return output_coeff * e**output_exp\n",
    "\n",
    "\n",
    "def j_c(C_s4,V):\n",
    "    '''\n",
    "    Cathodic half current, S4{2-} to S8\n",
    "    \n",
    "    INPUTS\n",
    "    C_s4: float, concentration of S4{2-}\n",
    "    V: float, Voltage\n",
    "    \n",
    "    OUTPUT\n",
    "    float, cathodic half current\n",
    "    '''\n",
    "    output_coeff = n*F* C_s4**2\n",
    "    output_exp = (1-alpha)*n*F*(V-E0)/(R*T)\n",
    "    \n",
    "    return output_coeff * e**output_exp"
   ]
  },
  {
   "cell_type": "markdown",
   "id": "d9ea9c1c",
   "metadata": {},
   "source": [
    "The total current density for the reaction is defined as \n",
    "\n",
    "$$ j(C_{S8}, C_{S4}, V) = j_0 \\big( j_c(C_{S4},V)-j_a(C_{S8},V) \\big) $$ \n",
    "\n",
    "However, for our purposes, the constant $j_0$ is a function of electrolyte volume $\\nu$. Since we will change the electrolyte volume many times, we will need to change $j_0$."
   ]
  },
  {
   "cell_type": "code",
   "execution_count": 6,
   "id": "5f62245a",
   "metadata": {},
   "outputs": [],
   "source": [
    "def j_(j0,C_s4,V,C_s8):\n",
    "    '''\n",
    "    Total current density, using both half current densities\n",
    "    \n",
    "    INPUTS:\n",
    "    j0: float, 'constant' function of electrolyte volume\n",
    "    C_s4: float, concentration of S4{2-}\n",
    "    V: float, voltage\n",
    "    C_s8: float, concentration of S8\n",
    "    \n",
    "    OUTPUT\n",
    "    float, total current density\n",
    "    '''\n",
    "    return j0 * (j_c(C_s4,V)-j_a(C_s8,V))"
   ]
  },
  {
   "cell_type": "markdown",
   "id": "bb2ffeec",
   "metadata": {},
   "source": [
    "The model for how the concentrations change through a discharge are given by the following ODEs:\n",
    "\n",
    "$$ \\frac{dC_{S8}}{dt} = \\frac{A}{nF} j(C_{S8}, C_{S4}, V) $$\n",
    "$$ \\frac{dC_{S4}}{dt} = -2\\frac{A}{nF} j(C_{S8}, C_{S4}, V) $$\n",
    "\n",
    "The voltage $V$ is an input to the right hand sides of both equations, but will be set to a constant and so will not update with time. Treat V as an input parameter. Remember, we need to input the exchange current density constant, $j_0$, into the right hand side of both equations!"
   ]
  },
  {
   "cell_type": "code",
   "execution_count": 7,
   "id": "b0cb55ea",
   "metadata": {},
   "outputs": [],
   "source": [
    "def dC_s8_dt(j0,C_s8,C_s4,V):\n",
    "    '''\n",
    "    Change in S8 concentration by time, calls total current density\n",
    "    \n",
    "    INPUTS:\n",
    "    j0: float, 'constant' function of electrolyte volume\n",
    "    C_s8: float, concentration of S8\n",
    "    C_s4: float, concentration of S4{2-}\n",
    "    V: float, voltage\n",
    "    \n",
    "    OUTPUT\n",
    "    float, rate of change of S8 concentration\n",
    "    '''\n",
    "    return A/(n*F) * j_(j0,C_s4,V,C_s8)\n",
    "\n",
    "\n",
    "def dC_s4_dt(j0,C_s4,C_s8,V):\n",
    "    '''\n",
    "    Change in S4{2-} concentration by time, calls total current density\n",
    "    \n",
    "    INPUTS:\n",
    "    j0: float, 'constant' function of electrolyte volume\n",
    "    C_s4: float, concentration of S4{2-}\n",
    "    C_s8: float, concentration of S8\n",
    "    V: float, voltage\n",
    "    \n",
    "    OUTPUT\n",
    "    float, rate of change of S4{2-} concentration\n",
    "    '''\n",
    "    return -2*A/(n*F) * j_(j0,C_s4,V,C_s8)"
   ]
  },
  {
   "cell_type": "code",
   "execution_count": 8,
   "id": "5e24dd2d",
   "metadata": {},
   "outputs": [],
   "source": [
    "def RK_step(f1,f2,C_sUP,C_sNUP,j0,V,dt):\n",
    "    '''\n",
    "    Runge Kutta step - 2nd order forward euler estimate of a forward value\n",
    "    \n",
    "    INPUTS\n",
    "    f1: function, with updating concentration dependance for updating concentration\n",
    "    f2: function, for forward concentration guess for non updating concentration\n",
    "    C_sUP: float, concentration for update\n",
    "    C_sNUP: float, concentration that is NOT updated\n",
    "    j0: float, 'constant' function of electrolyte volume\n",
    "    V: float, voltage\n",
    "    dt: float, forward estimate time step\n",
    "    \n",
    "    OUTPUT\n",
    "    C_sUP_NEW: float, forward estimate/update of concentration\n",
    "    '''\n",
    "    C_sUP_NEW = C_sUP + dt*f1(j0,C_sUP + 0.5*dt*f1(j0,C_sUP,C_sNUP,V),C_sNUP + 0.5*dt*f2(j0,C_sNUP,C_sUP,V),V)\n",
    "    \n",
    "    return C_sUP_NEW\n",
    "   \n",
    "    \n",
    "def RK(V,time_step,vol):\n",
    "    '''\n",
    "    Runge Kutta method, using previously defined RK_step and for the rate of changes of concentrations\n",
    "    \n",
    "    INPUTS\n",
    "    V: float, voltage\n",
    "    time_step: float, 'dt' forward estimate time step\n",
    "    vol: float, electrolyte volume\n",
    "    \n",
    "    OUTPUTS\n",
    "    t_list: list, progression of times for each RK step\n",
    "    C_s8_list: list, progression of S8 concentration estimates using RK_step\n",
    "    C_s4_list: list, progression of S4{2-} concentration estimates using RK_step\n",
    "    '''\n",
    "    \n",
    "    time_units = 2000\n",
    "    dt = time_step\n",
    "    \n",
    "    C_s8_list = [initial_conditions(vol)[0]]\n",
    "    C_s4_list = [initial_conditions(vol)[1]]\n",
    "    j0 = exchange_current_density(initial_conditions(vol)[0],initial_conditions(vol)[1],vol)\n",
    "    t_list = [0]\n",
    "    \n",
    "    for i in range(1,int(time_units/time_step)+1):\n",
    "        t = dt * i\n",
    "        C_s8_NEW = RK_step(dC_s8_dt,dC_s4_dt,C_s8_list[-1],C_s4_list[-1],j0,V,dt)\n",
    "        C_s4_NEW = RK_step(dC_s4_dt,dC_s8_dt,C_s4_list[-1],C_s8_list[-1],j0,V,dt)\n",
    "        \n",
    "        t_list.append(t)\n",
    "        C_s8_list.append(C_s8_NEW)\n",
    "        C_s4_list.append(C_s4_NEW)\n",
    " \n",
    "    return t_list, C_s8_list, C_s4_list"
   ]
  },
  {
   "cell_type": "raw",
   "id": "ace95853",
   "metadata": {},
   "source": [
    "# NOT BEING USED\n",
    "\n",
    "def RK(V,time_step,vol):\n",
    "    '''\n",
    "    Runge Kutta method, using previously defined RK_step and for the rate of changes of concentrations\n",
    "    This time using a while loop, should not effect function output\n",
    "    \n",
    "    INPUTS\n",
    "    V: float, voltage\n",
    "    time_step: float, 'dt' forward estimate time step\n",
    "    vol: float, electrolyte volume\n",
    "    \n",
    "    OUTPUTS\n",
    "    t_list: list, progression of times for each RK step\n",
    "    C_s8_list: list, progression of S8 concentration estimates using RK_step\n",
    "    C_s4_list: list, progression of S4{2-} concentration estimates using RK_step\n",
    "    '''\n",
    "    \n",
    "    time_units = 2000\n",
    "    dt = time_step\n",
    "    vol = vol\n",
    "    V = V\n",
    "    \n",
    "    C_s8_list = [initial_conditions(vol)[0]]\n",
    "    C_s4_list = [initial_conditions(vol)[1]]\n",
    "    j0 = exchange_current_density(initial_conditions(vol)[0],initial_conditions(vol)[1],vol)\n",
    "    t_list = [0]\n",
    "    t = 0\n",
    "    \n",
    "    while t <= time_units+1:\n",
    "        t += dt\n",
    "        C_s8_NEW = RK_step(dC_s8_dt,dC_s4_dt,C_s8_list[-1],C_s4_list[-1],j0,V,dt)\n",
    "        C_s4_NEW = RK_step(dC_s4_dt,dC_s8_dt,C_s4_list[-1],C_s8_list[-1],j0,V,dt)\n",
    "        \n",
    "        t_list.append(t)\n",
    "        C_s8_list.append(C_s8_NEW)\n",
    "        C_s4_list.append(C_s4_NEW)\n",
    " \n",
    "    return t_list, C_s8_list, C_s4_list"
   ]
  },
  {
   "cell_type": "markdown",
   "id": "3da59527",
   "metadata": {},
   "source": [
    "To check the model is consistent with our expectations, we can first run the model at the equilibrium voltage. We should see little to no change in the numerical values of the simulation at these conditions. \n",
    "\n",
    "The equilibrium voltage is defined by the Nernst potential, \n",
    "\n",
    "$$ V_{equilibrium} = E_0 + \\frac{RT}{nF}\\ln\\left( \\frac{C_{S8}}{(C_{S4})^2}\\right)$$\n"
   ]
  },
  {
   "cell_type": "code",
   "execution_count": 9,
   "id": "cbcddb9d",
   "metadata": {},
   "outputs": [
    {
     "name": "stdout",
     "output_type": "stream",
     "text": [
      "0.039062109375 7.8125e-07 2.562502532417324\n"
     ]
    }
   ],
   "source": [
    "C_s8_initial = initial_conditions(0.001)[0]\n",
    "C_s4_initial = initial_conditions(0.001)[1]\n",
    "\n",
    "V_eq = E0 + R*T/(n*F) * log(C_s8_initial/(C_s4_initial**2))\n",
    "print(C_s8_initial,C_s4_initial,V_eq)"
   ]
  },
  {
   "cell_type": "markdown",
   "id": "eba89526",
   "metadata": {},
   "source": [
    "Equillibrium voltage is 2.562502532417324"
   ]
  },
  {
   "cell_type": "code",
   "execution_count": 10,
   "id": "0b6e0071",
   "metadata": {},
   "outputs": [],
   "source": [
    "# equillibrium voltage - start voltage when not connected\n",
    "t_list = RK(V=2.56,time_step=1,vol=0.001)[0]\n",
    "C_s8_array = array(RK(V=2.562502532417324,time_step=1,vol=0.001)[1])\n",
    "C_s4_array = array(RK(V=2.562502532417324,time_step=1,vol=0.001)[2])"
   ]
  },
  {
   "cell_type": "code",
   "execution_count": 11,
   "id": "ba51f1c2",
   "metadata": {},
   "outputs": [
    {
     "data": {
      "image/png": "[encoded data removed]",
      "text/plain": [
       "<Figure size 576x360 with 1 Axes>"
      ]
     },
     "metadata": {
      "needs_background": "light"
     },
     "output_type": "display_data"
    }
   ],
   "source": [
    "figure(figsize=[8,5])\n",
    "plot(t_list,C_s8_array,linestyle='--',marker='',label='Concentration of S8')\n",
    "plot(t_list,C_s4_array,linestyle='-',marker='',color='red',label='Concentration of S4{2-}')\n",
    "legend(loc='center right')\n",
    "show()"
   ]
  },
  {
   "cell_type": "code",
   "execution_count": 12,
   "id": "54c5d87c",
   "metadata": {},
   "outputs": [
    {
     "data": {
      "image/png": "[encoded data removed]",
      "text/plain": [
       "<Figure size 576x360 with 1 Axes>"
      ]
     },
     "metadata": {
      "needs_background": "light"
     },
     "output_type": "display_data"
    },
    {
     "data": {
      "image/png": "[encoded data removed]",
      "text/plain": [
       "<Figure size 576x360 with 1 Axes>"
      ]
     },
     "metadata": {
      "needs_background": "light"
     },
     "output_type": "display_data"
    }
   ],
   "source": [
    "t_list_100 = RK(V=2.45,time_step=100,vol=0.001)[0]\n",
    "problem_5_list_C_s8_100 = RK(V=2.45,time_step=100,vol=0.001)[1]\n",
    "problem_5_list_C_s4_100 = RK(V=2.45,time_step=100,vol=0.001)[2]\n",
    "\n",
    "t_list_10 = RK(V=2.45,time_step=10,vol=0.001)[0]\n",
    "problem_5_list_C_s8_10 = RK(V=2.45,time_step=10,vol=0.001)[1]\n",
    "problem_5_list_C_s4_10 = RK(V=2.45,time_step=10,vol=0.001)[2]\n",
    "\n",
    "t_list_1 = RK(V=2.45,time_step=1,vol=0.001)[0]\n",
    "problem_5_list_C_s8_1 = RK(V=2.45,time_step=1,vol=0.001)[1]\n",
    "problem_5_list_C_s4_1 = RK(V=2.45,time_step=1,vol=0.001)[2]\n",
    "\n",
    "t_list_e1 = RK(V=2.45,time_step=10**-1,vol=0.001)[0]\n",
    "problem_5_list_C_s8_e1 = RK(V=2.45,time_step=10**-1,vol=0.001)[1]\n",
    "problem_5_list_C_s4_e1 = RK(V=2.45,time_step=10**-1,vol=0.001)[2]\n",
    "\n",
    "t_list_e2 = RK(V=2.45,time_step=10**-2,vol=0.001)[0]\n",
    "problem_5_list_C_s8_e2 = RK(V=2.45,time_step=10**-2,vol=0.001)[1]\n",
    "problem_5_list_C_s4_e2 = RK(V=2.45,time_step=10**-2,vol=0.001)[2]\n",
    "\n",
    "figure(figsize = [8,5])\n",
    "title('S8 concentration over time')\n",
    "plot(t_list_100,problem_5_list_C_s8_100,marker='',linestyle='--',color='red',label='time_step = 100')\n",
    "plot(t_list_10,problem_5_list_C_s8_10,marker='',linestyle='--',color='blue',label='time_step = 10')\n",
    "plot(t_list_1,problem_5_list_C_s8_1,marker='',linestyle='--',color='yellow',label='time_step = 1')\n",
    "plot(t_list_e1,problem_5_list_C_s8_e1,marker='',linestyle='--',color='green',label='time_step = 10**-1')\n",
    "legend(loc='upper right')\n",
    "show()\n",
    "\n",
    "figure(figsize = [8,5])\n",
    "title('S4{2-} concentration over time')\n",
    "plot(t_list_100,problem_5_list_C_s4_100,marker='',linestyle='--',color='red',label='time_step = 100')\n",
    "plot(t_list_10,problem_5_list_C_s4_10,marker='',linestyle='--',color='blue',label='time_step = 10')\n",
    "plot(t_list_1,problem_5_list_C_s4_1,marker='',linestyle='--',color='yellow',label='time_step = 1')\n",
    "plot(t_list_e1,problem_5_list_C_s4_e1,marker='',linestyle='--',color='green',label='time_step = 10**-1')\n",
    "legend(loc='lower right')\n",
    "show()"
   ]
  },
  {
   "cell_type": "markdown",
   "id": "1d65bd6c",
   "metadata": {},
   "source": [
    "graph for dt = 0.1 is very close to dt = 1 sufficiently accurate (with graphs converging), while balancing computational time"
   ]
  },
  {
   "cell_type": "markdown",
   "id": "94443c69",
   "metadata": {},
   "source": [
    "The current output (in Amps) is defined by the function\n",
    "\n",
    "$$ I = A \\nu j(C_{S8},C_{S4},V)$$"
   ]
  },
  {
   "cell_type": "code",
   "execution_count": 13,
   "id": "66bec4cc",
   "metadata": {},
   "outputs": [],
   "source": [
    "def current(vol,C_s8,C_s4,V):\n",
    "    '''\n",
    "    Current for specific concentrations, electrolyte volume & voltage\n",
    "    calls j0 using vol for j_\n",
    "    \n",
    "    INPUTS\n",
    "    vol: float, electrolyte volume\n",
    "    C_s8: float, concentration of S8\n",
    "    C_s4: float, concentration of S4{2-}\n",
    "    V: float, voltage\n",
    "    \n",
    "    OUTPUT\n",
    "    float, current\n",
    "    '''\n",
    "    j0 = exchange_current_density(initial_conditions(vol)[0],initial_conditions(vol)[1],vol)\n",
    "    \n",
    "    return A * vol * j_(j0,C_s4,V,C_s8)\n",
    "\n",
    "\n",
    "def current_array(V,time_step,vol):\n",
    "    '''\n",
    "    Delivers array of currents and time using Runge Kutta method for lists of concentrations and time \n",
    "    and the current function for floats elements in the array\n",
    "    \n",
    "    INPUTS\n",
    "    V: float, voltage\n",
    "    time_step: float, 'dt' forward estimate time step\n",
    "    vol: float, electrolyte volume\n",
    "    \n",
    "    OUTPUTS\n",
    "    t_list: list, progression of times for each RK step\n",
    "    current_array: array, progression of current over change in concentrations\n",
    "    '''\n",
    "    t_list = RK(V,time_step, vol)[0]\n",
    "    \n",
    "    C_s8_list = RK(V,time_step,vol)[1]\n",
    "    C_s4_list = RK(V,time_step,vol)[2]\n",
    "    \n",
    "    return t_list, current(vol,array(C_s8_list),array(C_s4_list),V)"
   ]
  },
  {
   "cell_type": "code",
   "execution_count": 14,
   "id": "71714f80",
   "metadata": {},
   "outputs": [
    {
     "data": {
      "image/png": "[encoded data removed]",
      "text/plain": [
       "<Figure size 576x360 with 1 Axes>"
      ]
     },
     "metadata": {
      "needs_background": "light"
     },
     "output_type": "display_data"
    }
   ],
   "source": [
    "t_list = current_array(V=2.45,time_step = 10**-1, vol = 0.001)[0]\n",
    "current_array1 = current_array(V=2.45,time_step = 10**-1, vol = 0.001)[1]\n",
    "\n",
    "figure(figsize=[8,5])\n",
    "plot(t_list, current_array1, linestyle='-',marker='',label='current over time, voltage = 2.45')\n",
    "legend(loc='center right')\n",
    "show()"
   ]
  },
  {
   "cell_type": "code",
   "execution_count": 15,
   "id": "2487bab9",
   "metadata": {},
   "outputs": [],
   "source": [
    "t_list = current_array(V=2.45,time_step = 10**-1, vol = 0.001)[0]\n",
    "current_array2 = current_array(V=2.4445,time_step = 10**-1, vol = 0.001)[1]\n",
    "current_array3 = current_array(V=2.44,time_step = 10**-1, vol = 0.001)[1]\n",
    "current_array4 = current_array(V=2.435,time_step = 10**-1, vol = 0.001)[1]\n",
    "current_array5 = current_array(V=2.43,time_step = 10**-1, vol = 0.001)[1]"
   ]
  },
  {
   "cell_type": "code",
   "execution_count": 28,
   "id": "7aeade64",
   "metadata": {},
   "outputs": [
    {
     "data": {
      "image/png": "[encoded data removed]",
      "text/plain": [
       "<Figure size 1152x720 with 1 Axes>"
      ]
     },
     "metadata": {
      "needs_background": "light"
     },
     "output_type": "display_data"
    }
   ],
   "source": [
    "figure(figsize=[16,10])\n",
    "plot(t_list,current_array1,marker='',linestyle='--',color='red',label='V = 2.45')\n",
    "plot(t_list,current_array2,marker='',linestyle='--',color='yellow',label='V = 2.445')\n",
    "plot(t_list,current_array3,marker='',linestyle='--',color='blue',label='V = 2.44')\n",
    "plot(t_list,current_array4,marker='',linestyle='--',color='orange',label='V = 2.435')\n",
    "plot(t_list,current_array5,marker='',linestyle='--',color='green',label='V = 2.43')\n",
    "legend(loc='center right')\n",
    "title('Current over time, changing voltage')\n",
    "show()"
   ]
  },
  {
   "cell_type": "code",
   "execution_count": 37,
   "id": "65eb8a09",
   "metadata": {},
   "outputs": [
    {
     "data": {
      "image/png": "[encoded data removed]",
      "text/plain": [
       "<Figure size 1152x720 with 1 Axes>"
      ]
     },
     "metadata": {
      "needs_background": "light"
     },
     "output_type": "display_data"
    }
   ],
   "source": [
    "t_list = current_array(V=2.45,time_step = 10**-1, vol = 0.001)[0]\n",
    "current_array6 = current_array(V=2.4,time_step = 10**-1, vol = 0.1)[1]\n",
    "current_array7 = current_array(V=2.4,time_step = 10**-1, vol = 0.05)[1]\n",
    "current_array8 = current_array(V=2.4,time_step = 10**-1, vol = 0.01)[1]\n",
    "current_array9 = current_array(V=2.4,time_step = 10**-1, vol = 0.005)[1]\n",
    "current_array10 = current_array(V=2.4,time_step = 10**-1, vol = 0.001)[1]\n",
    "current_array11 = current_array(V=2.4,time_step = 10**-1, vol = 0.0005)[1]\n",
    "current_array12 = current_array(V=2.4,time_step = 10**-1, vol = 0.0001)[1]\n",
    "current_array13 = current_array(V=2.4,time_step = 10**-1, vol = 0.00005)[1]\n",
    "current_array14 = current_array(V=2.4,time_step = 10**-1, vol = 0.00001)[1]\n",
    "\n",
    "figure(figsize=[16,10])\n",
    "plot(t_list,current_array6,marker='',linestyle='--',color='red',label='vol = 0.1')\n",
    "plot(t_list,current_array7,marker='',linestyle='--',color='yellow',label='vol = 0.05')\n",
    "plot(t_list,current_array8,marker='',linestyle='--',color='blue',label='vol = 0.01')\n",
    "plot(t_list,current_array9,marker='',linestyle='--',color='orange',label='vol = 0.005')\n",
    "plot(t_list,current_array10,marker='',linestyle='--',color='green',label='vol = 0.001')\n",
    "plot(t_list,current_array11,marker='',linestyle='-',color='red',label='vol = 0.0005')\n",
    "plot(t_list,current_array12,marker='',linestyle='-',color='yellow',label='vol = 0.0001')\n",
    "plot(t_list,current_array13,marker='',linestyle='-',color='blue',label='vol = 0.00005')\n",
    "plot(t_list,current_array14,marker='',linestyle='-',color='orange',label='vol = 0.00001')\n",
    "legend(loc='center right')\n",
    "title('Current over time, changing electrolyte volume')\n",
    "show()"
   ]
  },
  {
   "cell_type": "markdown",
   "id": "b0446c88",
   "metadata": {},
   "source": [
    "Suppose we are constructing a LiS battery and can change the electrolyte volume. We want to know the relationship between the discharge capacity for a constant voltage discharge and the electrolyte volume. \n",
    "\n",
    "The capacity (in Ah) is defined as: \n",
    "\n",
    "$$ \\frac{-1}{3600}\\int_{t=0}^{T_f} I(t) dt $$ \n",
    "\n",
    "where $T_f$ is the final time and $I(t)$ is the current from the battery.  "
   ]
  },
  {
   "cell_type": "code",
   "execution_count": 18,
   "id": "0ea93d93",
   "metadata": {},
   "outputs": [],
   "source": [
    "def Trapezoid(f,V,vol,time_step):\n",
    "    '''\n",
    "    Trapezoid approximation of an integral from time zero to final time of 2000 units\n",
    "    alpha for weighting of LHS vs RHS subsection height\n",
    "    \n",
    "    INPUTS\n",
    "    f: function within integral, current_array for our purposes\n",
    "    V: float, starting voltage\n",
    "    vol: float, electrolyte volume\n",
    "    time_step: float, for forward estimate in runge kutta and subsection base length\n",
    "    \n",
    "    OUTPUT\n",
    "    float, constant multiplied by approximation of integral\n",
    "    '''\n",
    "    \n",
    "    f_approx = f(V,time_step,vol)\n",
    "    integral_approx = (0.5*f_approx[1][0] + sum(f_approx[1][1:-1]) + 0.5*f_approx[1][-1])*time_step\n",
    "    \n",
    "    return -1/3600 * integral_approx"
   ]
  },
  {
   "cell_type": "code",
   "execution_count": 19,
   "id": "224641cc",
   "metadata": {},
   "outputs": [
    {
     "name": "stdout",
     "output_type": "stream",
     "text": [
      "dischange capacity for vol = 0.1 0.0041811466339675245\n"
     ]
    }
   ],
   "source": [
    "discharge_capacity1 = Trapezoid(current_array,V=2.4,vol=0.1,time_step=0.1)\n",
    "print('dischange capacity for vol = 0.1',discharge_capacity1)"
   ]
  },
  {
   "cell_type": "code",
   "execution_count": 20,
   "id": "857219b9",
   "metadata": {},
   "outputs": [
    {
     "name": "stdout",
     "output_type": "stream",
     "text": [
      "discharge capacity for v = 0.1 0.0041811466339675245\n",
      "discharge capacity for v = 0.05 0.0041746648512115325\n",
      "discharge capacity for v = 0.01 0.004124210377848114\n",
      "discharge capacity for v = 0.005 0.004064404566887432\n",
      "discharge capacity for v = 0.001 0.0036818766557947307\n",
      "discharge capacity for v = 0.0005 0.0033501436609153154\n",
      "discharge capacity for v = 0.0001 0.0022681444706345176\n",
      "discharge capacity for v = 5e-05 0.0017917950370021619\n",
      "discharge capacity for v = 1e-05 0.0009338152662008857\n"
     ]
    }
   ],
   "source": [
    "vol_list9 = [0.1,0.05,0.01,0.005,0.001,0.0005,0.0001,0.00005,0.00001]\n",
    "\n",
    "for i in vol_list9:\n",
    "    print('discharge capacity for v =',i,Trapezoid(current_array,V=2.4,vol = i,time_step=0.1))"
   ]
  },
  {
   "cell_type": "markdown",
   "id": "90d2757e",
   "metadata": {},
   "source": [
    "It would appear that we should just increase the electroyte volume to get the most capacity out of the cell. Although this is true, it comes at a cost (literally). The cost per capacity (labelled CPC and in units £/Ah) can be written as function of electrolyte in the following way: \n",
    "\n",
    "$$ CPC = \\frac{1+\\nu^2}{capacity}$$"
   ]
  },
  {
   "cell_type": "code",
   "execution_count": 21,
   "id": "282d9afd",
   "metadata": {},
   "outputs": [],
   "source": [
    "def CPC(vol,V,time_step):\n",
    "    '''\n",
    "    Cost per Capacity of Lithium Sulphide cell for a specific volume,\n",
    "    using trapezoid integral approximation of current_array function\n",
    "    \n",
    "    INPUTS:\n",
    "    vol: float, electrolyte volume\n",
    "    V: float, initial voltage\n",
    "    time_step: float, change in time for forward runge kutta estimate and trapezoid base subsection length\n",
    "    \n",
    "    OUTPUT\n",
    "    float, cost per cell capacity\n",
    "    '''\n",
    "    return (1+vol**2)/Trapezoid(current_array,V,vol,time_step)"
   ]
  },
  {
   "cell_type": "code",
   "execution_count": 22,
   "id": "5407261c",
   "metadata": {},
   "outputs": [
    {
     "name": "stdout",
     "output_type": "stream",
     "text": [
      "CPC for vol = 0.1 is 241.56053073929212\n",
      "CPC for vol = 0.09 is 241.14776192662382\n",
      "CPC for vol = 0.08 is 240.79306170689105\n",
      "CPC for vol = 0.07 is 240.50083860637534\n",
      "CPC for vol = 0.06 is 240.2784326202063\n",
      "CPC for vol = 0.05 is 240.1390376784531\n",
      "CPC for vol = 0.04 is 240.10899106038534\n",
      "CPC for vol = 0.03 is 240.24956771764258\n",
      "CPC for vol = 0.02 is 240.74366447278405\n",
      "CPC for vol = 0.01 is 242.4949040843599\n"
     ]
    },
    {
     "data": {
      "image/png": "[encoded data removed]",
      "text/plain": [
       "<Figure size 576x360 with 1 Axes>"
      ]
     },
     "metadata": {
      "needs_background": "light"
     },
     "output_type": "display_data"
    }
   ],
   "source": [
    "vol_list = [0.1,0.09,0.08,0.07,0.06,0.05,0.04,0.03,0.02,0.01]\n",
    "CPC_list = []\n",
    "for i in vol_list:\n",
    "    CPC_list.append(CPC(vol=i,V=2.4,time_step=0.1))\n",
    "    print('CPC for vol =',i,'is',CPC_list[-1])\n",
    "    \n",
    "figure(figsize=[8,5])\n",
    "plot(vol_list,CPC_list,marker='')\n",
    "title('CPC over electrolyte volume')\n",
    "show()"
   ]
  },
  {
   "cell_type": "markdown",
   "id": "645e8ade",
   "metadata": {},
   "source": [
    "Since we want to optimize the value of CPC by finding the optimal electrolyte volume, we should use the optimisation algorithm gradient descent. However, that method requires that we differentiate the CPC. We cannot do that with pen and paper. So we must numerically differentiate the function with respect to electrolyte volume. However, we need to be careful of the choice of step size in electrolyte volume of the numerical derivative. Too small a step size and we will encounter rounding errors. Too large a step size and the derivative value will be to inaccurate. \n",
    "\n",
    "\n",
    "We should observe that for the middle values of numerical derivative step size the derivative values are fairly consistent. We should also notice that most of the simulation time steps yield similar results. However, $dt=10$ is certainly inconsistent with the others. Moreover, $10^{-2}$ takes a rather long time to run. Therefore, we will continue using the simulation step size of $10^{-1}$."
   ]
  },
  {
   "cell_type": "code",
   "execution_count": 23,
   "id": "d0c8ff04",
   "metadata": {},
   "outputs": [],
   "source": [
    "def d_CPC_dvol(V,vol,time_step,step_size):\n",
    "    '''\n",
    "    Derivative of CPC using the formula for first derivative over a small step size\n",
    "    \n",
    "    INPUTS\n",
    "    V: float, tarting voltage\n",
    "    vol: float, electrolyte volume\n",
    "    time_step: float, time step size for runge kutta method\n",
    "    step_size: float, small change in volume value for numerical derivative from first principles\n",
    "    \n",
    "    OUTPUT\n",
    "    CPC_deriv: float, CPC gradient at a particular voltage & electrolyte volume\n",
    "    '''\n",
    "    CPC_deriv = (CPC(vol+step_size,V,time_step)-CPC(vol,V,time_step))/step_size\n",
    "    return CPC_deriv"
   ]
  },
  {
   "cell_type": "code",
   "execution_count": 24,
   "id": "ae9f16f8",
   "metadata": {},
   "outputs": [
    {
     "name": "stdout",
     "output_type": "stream",
     "text": [
      "CPC derivative for step size = 10 is 2407.011916261322\n",
      "CPC derivative for step size = 1 is 257.0441401601586\n",
      "CPC derivative for step size = 0.1 is 36.39166926272168\n",
      "CPC derivative for step size = 0.01 is 3.0046618067757436\n",
      "__\n",
      "CPC derivative for step size = 0.0001 is -3.9152180426071936\n",
      "CPC derivative for step size = 1e-05 is -3.9884275793156116\n",
      "CPC derivative for step size = 1e-05 is -3.9884275793156116\n",
      "CPC derivative for step size = 1e-07 is -3.996493092017772\n",
      "CPC derivative for step size = 1e-08 is -3.996566988462291\n",
      "CPC derivative for step size = 1e-09 is -3.996092345914803\n",
      "CPC derivative for step size = 1e-10 is -3.9977976484806277\n",
      "CPC derivative for step size = 1e-11 is -3.9506176108261575\n"
     ]
    },
    {
     "data": {
      "image/png": "[encoded data removed]",
      "text/plain": [
       "<Figure size 576x360 with 1 Axes>"
      ]
     },
     "metadata": {
      "needs_background": "light"
     },
     "output_type": "display_data"
    },
    {
     "data": {
      "image/png": "[encoded data removed]",
      "text/plain": [
       "<Figure size 576x360 with 1 Axes>"
      ]
     },
     "metadata": {
      "needs_background": "light"
     },
     "output_type": "display_data"
    }
   ],
   "source": [
    "step_size_list1 = [10**-4,10**-5,10**-5,10**-7,10**-8,10**-9,10**-10,10**-11]\n",
    "step_size_list2 = [10,1,10**-1,10**-2]\n",
    "\n",
    "d_CPC_dvol_list1 = []\n",
    "d_CPC_dvol_list2 = []\n",
    "\n",
    "for i in step_size_list2:\n",
    "    d_CPC_dvol_list2.append(d_CPC_dvol(V=2.4,vol=0.04,time_step=0.1,step_size=i))\n",
    "    print('CPC derivative for step size =',i,'is',d_CPC_dvol_list2[-1])\n",
    "    if i == step_size_list2[-1]:\n",
    "        print('__')\n",
    "\n",
    "for i in step_size_list1:\n",
    "    d_CPC_dvol_list1.append(d_CPC_dvol(V=2.4,vol=0.04,time_step=0.1,step_size=i))\n",
    "    print('CPC derivative for step size =',i,'is',d_CPC_dvol_list1[-1])\n",
    "    \n",
    "figure(figsize=[8,5])\n",
    "plot(step_size_list1,d_CPC_dvol_list1,marker='',color='red')\n",
    "title('CPC derivative value for step size values between 10**-4 and 10**-11')\n",
    "show()\n",
    "\n",
    "figure(figsize=[8,5])\n",
    "plot(step_size_list2,d_CPC_dvol_list2,marker='',color='blue')\n",
    "title('CPC derivative value for step size values between 10**-2 and 10')\n",
    "show()\n"
   ]
  },
  {
   "cell_type": "code",
   "execution_count": 25,
   "id": "0e1ecdf7",
   "metadata": {},
   "outputs": [],
   "source": [
    "def GD_step(dfdx, vol_old, lamb, V,time_step,step_size):\n",
    "    '''\n",
    "    Each gradient descent step\n",
    "    \n",
    "    INPUTS\n",
    "    dfdx: function, gradient for step \n",
    "    vol_old: float, electrolyte volume for use in function for gradient\n",
    "    lamb: float, step size coefficient\n",
    "    V: float, voltage\n",
    "    time_step: float, change in time for forward runge kutta estimate and trapezoid base subsection length (for capacity)\n",
    "    step_size: float, small change in volume value for numerical derivative from first principles\n",
    "    \n",
    "    OUTPUT\n",
    "    float, new volume down gradient descent \n",
    "    '''\n",
    "    return vol_old - lamb*dfdx(V,vol_old,time_step,step_size)\n",
    "\n",
    "\n",
    "def GD_method(dfdx,lamb, V,time_step,step_size):\n",
    "    '''\n",
    "    Gradient descent method, building a list of new volumes from & to be used for next gradient descent step\n",
    "    \n",
    "    INPUTS\n",
    "    dfdx: function, gradient for step \n",
    "    lamb: float, step size coefficient\n",
    "    V: float, voltage\n",
    "    time_step: float, change in time for forward runge kutta estimate and trapezoid base subsection length (for capacity)\n",
    "    step_size: float, small change in volume value for numerical derivative from first principles\n",
    "    \n",
    "    OUTPUT\n",
    "    vol_array: list, new volumes down gradient descent until gradient is sufficiently close to zero\n",
    "    '''\n",
    "    tol = 10**-4\n",
    "    vol_array = [0.01] # first element inital volume guess\n",
    "    \n",
    "    while abs(dfdx(V,vol_array[-1],time_step,step_size)) > tol:\n",
    "        vol_array.append(GD_step(dfdx, vol_array[-1], lamb, V , time_step , step_size))\n",
    "                       \n",
    "    return vol_array"
   ]
  },
  {
   "cell_type": "markdown",
   "id": "65d530e4",
   "metadata": {},
   "source": [
    "Best lamb seen to be 0.0007, giving final value for minimum CPC at vol = 0.0426"
   ]
  },
  {
   "cell_type": "code",
   "execution_count": 26,
   "id": "69111b39",
   "metadata": {},
   "outputs": [
    {
     "data": {
      "text/plain": [
       "[0.01,\n",
       " 0.2599717962990644,\n",
       " 0.17341901699661322,\n",
       " 0.11628298338701826,\n",
       " 0.07930776348781365,\n",
       " 0.056903514746077244,\n",
       " 0.0458748233793449,\n",
       " 0.042837436566524056,\n",
       " 0.042618598476119596,\n",
       " 0.04261786104076237]"
      ]
     },
     "execution_count": 26,
     "metadata": {},
     "output_type": "execute_result"
    }
   ],
   "source": [
    "GD_method(d_CPC_dvol,lamb=0.0007,V=2.4,time_step=0.1,step_size=10**-6)"
   ]
  },
  {
   "cell_type": "markdown",
   "id": "e6eab2ab",
   "metadata": {},
   "source": [
    "Not particularly nescesary but interesting to see best lambda ('lamb')"
   ]
  },
  {
   "cell_type": "code",
   "execution_count": 27,
   "id": "67b73773",
   "metadata": {},
   "outputs": [],
   "source": [
    "def GD_method_step_count(dfdx,lamb, V,time_step,step_size, max_steps):\n",
    "    '''\n",
    "    Gradient descent method, building a list of new volumes from & to be used for next gradient descent step\n",
    "    Outputs the step number and aborts if over 18 (min step number found with lamb = 0.0005)\n",
    "    \n",
    "    INPUTS\n",
    "    dfdx: function, gradient for step \n",
    "    lamb: float, step size coefficient\n",
    "    V: float, voltage\n",
    "    time_step: float, change in time for forward runge kutta estimate and trapezoid base subsection length (for capacity)\n",
    "    step_size: float, small change in volume value for numerical derivative from first principles\n",
    "    max_steps: float, the maximum number of steps allowed before the lamb value is poorer than another \n",
    "    \n",
    "    OUTPUT\n",
    "    vol_array: list, new volumes down gradient descent until gradient is sufficiently close to zero\n",
    "    '''\n",
    "    tol = 10**-4\n",
    "    vol_array = [0.01] # first element inital volume guess\n",
    "    \n",
    "    while abs(dfdx(V,vol_array[-1],time_step,step_size)) > tol:\n",
    "        vol_array.append(GD_step(dfdx, vol_array[-1], lamb, V , time_step , step_size))\n",
    "        print('step',len(vol_array)-1)\n",
    "        if len(vol_array) > max_steps:\n",
    "            return 'TOO SLOW!', vol_array\n",
    "                       \n",
    "    return vol_array"
   ]
  },
  {
   "cell_type": "code",
   "execution_count": 29,
   "id": "b8677461",
   "metadata": {},
   "outputs": [
    {
     "name": "stdout",
     "output_type": "stream",
     "text": [
      "step 1\n",
      "step 2\n",
      "step 3\n",
      "step 4\n",
      "step 5\n",
      "step 6\n",
      "step 7\n",
      "step 8\n",
      "step 9\n",
      "step 10\n",
      "step 11\n",
      "step 12\n",
      "step 13\n",
      "step 14\n",
      "step 15\n",
      "step 16\n",
      "step 17\n"
     ]
    },
    {
     "data": {
      "text/plain": [
       "[0.01,\n",
       " 0.3671025661415206,\n",
       " 0.19201612007828772,\n",
       " 0.10128330401608765,\n",
       " 0.056499247360998206,\n",
       " 0.04110116762172766,\n",
       " 0.04335239654234102,\n",
       " 0.042318858785629354,\n",
       " 0.0427497726573256,\n",
       " 0.04256157827991047,\n",
       " 0.042642230792134805,\n",
       " 0.042607377619342524,\n",
       " 0.04262238561774212,\n",
       " 0.04261591297132328,\n",
       " 0.04261870210735652,\n",
       " 0.042617499329035136,\n",
       " 0.04261801847997959,\n",
       " 0.042617794744282955]"
      ]
     },
     "execution_count": 29,
     "metadata": {},
     "output_type": "execute_result"
    }
   ],
   "source": [
    "GD_method_step_count(d_CPC_dvol,lamb=0.001,V=2.4,time_step=0.1,step_size=10**-6,max_steps=18)"
   ]
  },
  {
   "cell_type": "code",
   "execution_count": 31,
   "id": "980f56ee",
   "metadata": {},
   "outputs": [
    {
     "name": "stdout",
     "output_type": "stream",
     "text": [
      "\n",
      "lamb for gradient descent method 0.00095\n",
      "step 1\n",
      "step 2\n",
      "step 3\n",
      "step 4\n",
      "step 5\n",
      "step 6\n",
      "step 7\n",
      "step 8\n",
      "step 9\n",
      "step 10\n",
      "step 11\n",
      "step 12\n",
      "step 13\n",
      "step 14\n",
      "step 15\n",
      "step 16\n",
      "step 17\n",
      "\n",
      "lamb for gradient descent method 0.0009\n",
      "step 1\n",
      "step 2\n",
      "step 3\n",
      "step 4\n",
      "step 5\n",
      "step 6\n",
      "step 7\n",
      "step 8\n",
      "step 9\n",
      "step 10\n",
      "step 11\n",
      "step 12\n",
      "step 13\n",
      "step 14\n",
      "step 15\n",
      "step 16\n",
      "step 17\n",
      "\n",
      "lamb for gradient descent method 0.00085\n",
      "step 1\n",
      "step 2\n",
      "step 3\n",
      "step 4\n",
      "step 5\n",
      "step 6\n",
      "step 7\n",
      "step 8\n",
      "step 9\n",
      "step 10\n",
      "step 11\n",
      "step 12\n",
      "step 13\n",
      "step 14\n",
      "step 15\n",
      "step 16\n",
      "step 17\n",
      "\n",
      "lamb for gradient descent method 0.0008\n",
      "step 1\n",
      "step 2\n",
      "step 3\n",
      "step 4\n",
      "step 5\n",
      "step 6\n",
      "step 7\n",
      "step 8\n",
      "step 9\n",
      "step 10\n",
      "step 11\n",
      "step 12\n",
      "step 13\n",
      "step 14\n",
      "step 15\n",
      "step 16\n",
      "step 17\n",
      "\n",
      "lamb for gradient descent method 0.00075\n",
      "step 1\n",
      "step 2\n",
      "step 3\n",
      "step 4\n",
      "step 5\n",
      "step 6\n",
      "step 7\n",
      "step 8\n",
      "step 9\n",
      "step 10\n",
      "step 11\n",
      "step 12\n",
      "step 13\n",
      "step 14\n",
      "step 15\n",
      "step 16\n",
      "step 17\n",
      "\n",
      "lamb for gradient descent method 0.0007\n",
      "step 1\n",
      "step 2\n",
      "step 3\n",
      "step 4\n",
      "step 5\n",
      "step 6\n",
      "step 7\n",
      "step 8\n",
      "step 9\n",
      "step 10\n",
      "step 11\n",
      "step 12\n",
      "step 13\n",
      "step 14\n",
      "step 15\n",
      "step 16\n",
      "step 17\n",
      "\n",
      "lamb for gradient descent method 0.00065\n",
      "step 1\n",
      "step 2\n",
      "step 3\n",
      "step 4\n",
      "step 5\n",
      "step 6\n",
      "step 7\n",
      "step 8\n",
      "step 9\n",
      "step 10\n",
      "step 11\n",
      "step 12\n",
      "step 13\n",
      "step 14\n",
      "step 15\n",
      "step 16\n",
      "step 17\n",
      "\n",
      "lamb for gradient descent method 0.0006\n",
      "step 1\n",
      "step 2\n",
      "step 3\n",
      "step 4\n",
      "step 5\n",
      "step 6\n",
      "step 7\n",
      "step 8\n",
      "step 9\n",
      "step 10\n",
      "step 11\n",
      "step 12\n",
      "step 13\n",
      "step 14\n",
      "step 15\n",
      "step 16\n",
      "step 17\n",
      "\n",
      "lamb for gradient descent method 0.00055\n",
      "step 1\n",
      "step 2\n",
      "step 3\n",
      "step 4\n",
      "step 5\n",
      "step 6\n",
      "step 7\n",
      "step 8\n",
      "step 9\n",
      "step 10\n",
      "step 11\n",
      "step 12\n",
      "step 13\n",
      "step 14\n",
      "step 15\n",
      "step 16\n",
      "step 17\n",
      "\n",
      "lamb for gradient descent method 0.0005\n",
      "step 1\n",
      "step 2\n",
      "step 3\n",
      "step 4\n",
      "step 5\n",
      "step 6\n",
      "step 7\n",
      "step 8\n",
      "step 9\n",
      "step 10\n",
      "step 11\n",
      "step 12\n",
      "step 13\n",
      "step 14\n",
      "step 15\n",
      "step 16\n",
      "step 17\n",
      "\n",
      "lamb for gradient descent method 0.00045\n",
      "step 1\n",
      "step 2\n",
      "step 3\n",
      "step 4\n",
      "step 5\n",
      "step 6\n",
      "step 7\n",
      "step 8\n",
      "step 9\n",
      "step 10\n",
      "step 11\n",
      "step 12\n",
      "step 13\n",
      "step 14\n",
      "step 15\n",
      "step 16\n",
      "step 17\n",
      "\n",
      "lamb for gradient descent method 0.0004\n",
      "step 1\n",
      "step 2\n",
      "step 3\n",
      "step 4\n",
      "step 5\n",
      "step 6\n",
      "step 7\n",
      "step 8\n",
      "step 9\n",
      "step 10\n",
      "step 11\n",
      "step 12\n",
      "step 13\n",
      "step 14\n",
      "step 15\n",
      "step 16\n",
      "step 17\n",
      "\n",
      "lamb for gradient descent method 0.00035\n",
      "step 1\n",
      "step 2\n",
      "step 3\n",
      "step 4\n",
      "step 5\n",
      "step 6\n",
      "step 7\n",
      "step 8\n",
      "step 9\n",
      "step 10\n",
      "step 11\n",
      "step 12\n",
      "step 13\n",
      "step 14\n",
      "step 15\n",
      "step 16\n",
      "step 17\n",
      "\n",
      "lamb for gradient descent method 0.0003\n",
      "step 1\n",
      "step 2\n",
      "step 3\n",
      "step 4\n",
      "step 5\n",
      "step 6\n",
      "step 7\n",
      "step 8\n",
      "step 9\n",
      "step 10\n",
      "step 11\n",
      "step 12\n",
      "step 13\n",
      "step 14\n",
      "step 15\n",
      "step 16\n",
      "step 17\n",
      "\n",
      "lamb for gradient descent method 0.00025\n",
      "step 1\n",
      "step 2\n",
      "step 3\n",
      "step 4\n",
      "step 5\n",
      "step 6\n",
      "step 7\n",
      "step 8\n",
      "step 9\n",
      "step 10\n",
      "step 11\n",
      "step 12\n",
      "step 13\n",
      "step 14\n",
      "step 15\n",
      "step 16\n",
      "step 17\n",
      "\n",
      "lamb for gradient descent method 0.0002\n",
      "step 1\n",
      "step 2\n",
      "step 3\n",
      "step 4\n",
      "step 5\n",
      "step 6\n",
      "step 7\n",
      "step 8\n",
      "step 9\n",
      "step 10\n",
      "step 11\n",
      "step 12\n",
      "step 13\n",
      "step 14\n",
      "step 15\n",
      "step 16\n",
      "step 17\n",
      "\n",
      "lamb for gradient descent method 0.0001\n",
      "step 1\n",
      "step 2\n",
      "step 3\n",
      "step 4\n",
      "step 5\n",
      "step 6\n",
      "step 7\n",
      "step 8\n",
      "step 9\n",
      "step 10\n",
      "step 11\n",
      "step 12\n",
      "step 13\n",
      "step 14\n",
      "step 15\n",
      "step 16\n",
      "step 17\n"
     ]
    }
   ],
   "source": [
    "lamb_test_list = [0.00095,0.0009,0.00085,0.0008,0.00075,0.0007,0.00065,0.0006,0.00055,0.0005,0.00045,0.0004,0.00035,0.0003,0.00025,0.0002,0.0001]\n",
    "GD_method_step_test_list = []\n",
    "for i in lamb_test_list:\n",
    "    print('')\n",
    "    print('lamb for gradient descent method', i)\n",
    "    GD_method_step_test_list.append(len(GD_method_step_count(d_CPC_dvol,lamb=0.001,V=2.4,time_step=0.1,step_size=10**-6,max_steps=18)[1:]))"
   ]
  },
  {
   "cell_type": "code",
   "execution_count": 32,
   "id": "242b3302",
   "metadata": {},
   "outputs": [
    {
     "data": {
      "text/plain": [
       "[17, 17, 17, 17, 17, 17, 17, 17, 17, 17, 17, 17, 17, 17, 17, 17, 17]"
      ]
     },
     "execution_count": 32,
     "metadata": {},
     "output_type": "execute_result"
    }
   ],
   "source": [
    "GD_method_step_test_list"
   ]
  },
  {
   "cell_type": "code",
   "execution_count": 36,
   "id": "6c9827e0",
   "metadata": {},
   "outputs": [
    {
     "data": {
      "text/plain": [
       "0.00095"
      ]
     },
     "execution_count": 36,
     "metadata": {},
     "output_type": "execute_result"
    }
   ],
   "source": [
    "[lamb_test_list] + [GD_method_step_test_list]\n",
    "for i in range(len(lamb_test_list)-1):\n",
    "    best = lamb_test_list[0]\n",
    "    if GD_method_step_test_list[i+1] < best:\n",
    "        best = lamb_test_list[i+1]\n",
    "best"
   ]
  }
 ],
 "metadata": {
  "kernelspec": {
   "display_name": "Python 3",
   "language": "python",
   "name": "python3"
  },
  "language_info": {
   "codemirror_mode": {
    "name": "ipython",
    "version": 3
   },
   "file_extension": ".py",
   "mimetype": "text/x-python",
   "name": "python",
   "nbconvert_exporter": "python",
   "pygments_lexer": "ipython3",
   "version": "3.8.8"
  }
 },
 "nbformat": 4,
 "nbformat_minor": 5
}
